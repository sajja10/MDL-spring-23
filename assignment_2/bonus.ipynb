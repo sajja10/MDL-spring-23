{
 "cells": [
  {
   "cell_type": "code",
   "execution_count": 1,
   "metadata": {},
   "outputs": [
    {
     "name": "stdout",
     "output_type": "stream",
     "text": [
      "Capacitance C = 5.00e-05 F\n",
      "Resistance R = 1.00e+05 ohms\n"
     ]
    }
   ],
   "source": [
    "# BONUS TASK\n",
    "\n",
    "import pickle\n",
    "import numpy as np\n",
    "\n",
    "# Load the dataset from the pickle file\n",
    "with open('capacitor_dataset.pickle', 'rb') as f:\n",
    "    dataset = pickle.load(f)\n",
    "\n",
    "# Extract the time and charge data from the dataset array\n",
    "time = dataset[:, 0]\n",
    "charge = dataset[:, 1]\n",
    "\n",
    "# Take the natural logarithm of the charge data\n",
    "ln_charge = np.log(charge)\n",
    "\n",
    "# Perform linear regression on the logarithm of the charge data\n",
    "slope, intercept = np.polyfit(time, ln_charge, 1)\n",
    "\n",
    "# Extract the given voltage\n",
    "V0 = 5  # Given in ques\n",
    "\n",
    "# Calculate capacitance and resistance from the slope and intercept\n",
    "C = np.exp(intercept) / V0\n",
    "R = -1 / (slope * C)\n",
    "\n",
    "# Print the estimated values of capacitance and resistance\n",
    "print(\"Capacitance C = {:.2e} F\".format(C))\n",
    "print(\"Resistance R = {:.2e} ohms\".format(R))\n"
   ]
  }
 ],
 "metadata": {
  "kernelspec": {
   "display_name": "Python 3 (ipykernel)",
   "language": "python",
   "name": "python3"
  },
  "language_info": {
   "codemirror_mode": {
    "name": "ipython",
    "version": 3
   },
   "file_extension": ".py",
   "mimetype": "text/x-python",
   "name": "python",
   "nbconvert_exporter": "python",
   "pygments_lexer": "ipython3",
   "version": "3.10.4"
  },
  "vscode": {
   "interpreter": {
    "hash": "f7b89c764cbc798faef163249f0a4b69c44200a3b7ac72d3cd8c5c6e6767b621"
   }
  }
 },
 "nbformat": 4,
 "nbformat_minor": 2
}
